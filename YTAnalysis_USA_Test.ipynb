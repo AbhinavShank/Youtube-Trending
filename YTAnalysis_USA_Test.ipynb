{
 "cells": [
  {
   "cell_type": "code",
   "execution_count": 1,
   "metadata": {
    "collapsed": true
   },
   "outputs": [],
   "source": [
    "from IPython.core.interactiveshell import InteractiveShell\n",
    "InteractiveShell.ast_node_interactivity = \"all\"\n",
    "\n",
    "import pandas as pd\n",
    "import numpy as np\n",
    "import matplotlib as mpl\n",
    "from matplotlib import pyplot as plt\n",
    "from matplotlib import cm\n",
    "import seaborn as sns\n",
    "import warnings\n",
    "from collections import Counter\n",
    "import datetime\n",
    "import wordcloud\n",
    "import json\n",
    "\n",
    "%matplotlib inline\n",
    "%config InlineBackend.figure_format = 'retina'\n",
    "\n",
    "warnings.filterwarnings('ignore')"
   ]
  },
  {
   "cell_type": "code",
   "execution_count": 2,
   "metadata": {
    "collapsed": true
   },
   "outputs": [],
   "source": [
    "PLOT_COLORS = [\"#268bd2\", \"#0052CC\", \"#FF5722\", \"#b58900\", \"#003f5c\"]\n",
    "pd.options.display.float_format = '{:.2f}'.format\n",
    "sns.set(style=\"ticks\")\n",
    "plt.rc('figure', figsize=(8, 5), dpi=100)\n",
    "plt.rc('axes', labelpad=20, facecolor=\"#ffffff\", linewidth=0.4, grid=True, labelsize=14)\n",
    "plt.rc('patch', linewidth=0)\n",
    "plt.rc('xtick.major', width=0.2)\n",
    "plt.rc('ytick.major', width=0.2)\n",
    "plt.rc('grid', color='#9E9E9E', linewidth=0.4)\n",
    "plt.rc('font', family='Arial', weight='400', size=10)\n",
    "plt.rc('text', color='#282828')\n",
    "plt.rc('savefig', pad_inches=0.3, dpi=300)"
   ]
  },
  {
   "cell_type": "code",
   "execution_count": 3,
   "metadata": {},
   "outputs": [],
   "source": [
    "df = pd.read_excel(\"/home/sleepynav/Documents/Social Web/Youtube-Trending/Data/USvideos_new.xlsx\", index_col='video_id')\n",
    "\n",
    "with open(\"/home/sleepynav/Documents/Social Web/Youtube-Trending/Data/US_category_id.json\") as f:\n",
    "    categories = json.load(f)[\"items\"]\n",
    "cat_dict = {}\n",
    "\n",
    "\n",
    "for cat in categories:\n",
    "    cat_dict[int(cat[\"id\"])] = cat[\"snippet\"][\"title\"]\n",
    "df['category_name'] = df['category_id'].map(cat_dict)"
   ]
  },
  {
   "cell_type": "code",
   "execution_count": 4,
   "metadata": {},
   "outputs": [
    {
     "data": {
      "text/html": [
       "<div>\n",
       "<style>\n",
       "    .dataframe thead tr:only-child th {\n",
       "        text-align: right;\n",
       "    }\n",
       "\n",
       "    .dataframe thead th {\n",
       "        text-align: left;\n",
       "    }\n",
       "\n",
       "    .dataframe tbody tr th {\n",
       "        vertical-align: top;\n",
       "    }\n",
       "</style>\n",
       "<table border=\"1\" class=\"dataframe\">\n",
       "  <thead>\n",
       "    <tr style=\"text-align: right;\">\n",
       "      <th></th>\n",
       "      <th>trending_date</th>\n",
       "      <th>title</th>\n",
       "      <th>channel_tittle</th>\n",
       "      <th>category_id</th>\n",
       "      <th>publish_time</th>\n",
       "      <th>views</th>\n",
       "      <th>likes</th>\n",
       "      <th>dislikes</th>\n",
       "      <th>comment_count</th>\n",
       "      <th>Category_list</th>\n",
       "      <th>description</th>\n",
       "      <th>tags</th>\n",
       "      <th>category_name</th>\n",
       "    </tr>\n",
       "    <tr>\n",
       "      <th>video_id</th>\n",
       "      <th></th>\n",
       "      <th></th>\n",
       "      <th></th>\n",
       "      <th></th>\n",
       "      <th></th>\n",
       "      <th></th>\n",
       "      <th></th>\n",
       "      <th></th>\n",
       "      <th></th>\n",
       "      <th></th>\n",
       "      <th></th>\n",
       "      <th></th>\n",
       "      <th></th>\n",
       "    </tr>\n",
       "  </thead>\n",
       "  <tbody>\n",
       "    <tr>\n",
       "      <th>foyufD52aog</th>\n",
       "      <td>2019-03-14T23:22:38.000Z</td>\n",
       "      <td>Disney's Aladdin Official Trailer - In Theater...</td>\n",
       "      <td>Walt Disney Studios</td>\n",
       "      <td>1</td>\n",
       "      <td>2019-03-12T12:45:05.000Z</td>\n",
       "      <td>13588567</td>\n",
       "      <td>274526.00</td>\n",
       "      <td>24224.00</td>\n",
       "      <td>39120.00</td>\n",
       "      <td>Film &amp; Animation</td>\n",
       "      <td>A thrilling and vibrant live-action adaptation...</td>\n",
       "      <td>['Disney', 'Aladdin', 'Mena Massoud', 'Naomi S...</td>\n",
       "      <td>Film &amp; Animation</td>\n",
       "    </tr>\n",
       "    <tr>\n",
       "      <th>JdIxXdP8b98</th>\n",
       "      <td>2019-03-14T23:22:38.000Z</td>\n",
       "      <td>Buying EVERY Advertisement I See for My Cat!</td>\n",
       "      <td>Ryland Adams</td>\n",
       "      <td>24</td>\n",
       "      <td>2019-03-12T20:00:05.000Z</td>\n",
       "      <td>2583116</td>\n",
       "      <td>146619.00</td>\n",
       "      <td>1538.00</td>\n",
       "      <td>12213.00</td>\n",
       "      <td>Entertainment</td>\n",
       "      <td>Get Honey and start saving money today ▸ https...</td>\n",
       "      <td>['Ryland Adams', 'Shane Dawson', 'Cat', 'Amazo...</td>\n",
       "      <td>Entertainment</td>\n",
       "    </tr>\n",
       "  </tbody>\n",
       "</table>\n",
       "</div>"
      ],
      "text/plain": [
       "                        trending_date  \\\n",
       "video_id                                \n",
       "foyufD52aog  2019-03-14T23:22:38.000Z   \n",
       "JdIxXdP8b98  2019-03-14T23:22:38.000Z   \n",
       "\n",
       "                                                         title  \\\n",
       "video_id                                                         \n",
       "foyufD52aog  Disney's Aladdin Official Trailer - In Theater...   \n",
       "JdIxXdP8b98       Buying EVERY Advertisement I See for My Cat!   \n",
       "\n",
       "                  channel_tittle  category_id              publish_time  \\\n",
       "video_id                                                                  \n",
       "foyufD52aog  Walt Disney Studios            1  2019-03-12T12:45:05.000Z   \n",
       "JdIxXdP8b98         Ryland Adams           24  2019-03-12T20:00:05.000Z   \n",
       "\n",
       "                views     likes  dislikes  comment_count     Category_list  \\\n",
       "video_id                                                                     \n",
       "foyufD52aog  13588567 274526.00  24224.00       39120.00  Film & Animation   \n",
       "JdIxXdP8b98   2583116 146619.00   1538.00       12213.00     Entertainment   \n",
       "\n",
       "                                                   description  \\\n",
       "video_id                                                         \n",
       "foyufD52aog  A thrilling and vibrant live-action adaptation...   \n",
       "JdIxXdP8b98  Get Honey and start saving money today ▸ https...   \n",
       "\n",
       "                                                          tags  \\\n",
       "video_id                                                         \n",
       "foyufD52aog  ['Disney', 'Aladdin', 'Mena Massoud', 'Naomi S...   \n",
       "JdIxXdP8b98  ['Ryland Adams', 'Shane Dawson', 'Cat', 'Amazo...   \n",
       "\n",
       "                category_name  \n",
       "video_id                       \n",
       "foyufD52aog  Film & Animation  \n",
       "JdIxXdP8b98     Entertainment  "
      ]
     },
     "execution_count": 4,
     "metadata": {},
     "output_type": "execute_result"
    }
   ],
   "source": [
    "df.head(2)"
   ]
  },
  {
   "cell_type": "code",
   "execution_count": 5,
   "metadata": {},
   "outputs": [
    {
     "data": {
      "text/plain": [
       "{1: 'Film & Animation',\n",
       " 2: 'Autos & Vehicles',\n",
       " 10: 'Music',\n",
       " 15: 'Pets & Animals',\n",
       " 17: 'Sports',\n",
       " 18: 'Short Movies',\n",
       " 19: 'Travel & Events',\n",
       " 20: 'Gaming',\n",
       " 21: 'Videoblogging',\n",
       " 22: 'People & Blogs',\n",
       " 23: 'Comedy',\n",
       " 24: 'Entertainment',\n",
       " 25: 'News & Politics',\n",
       " 26: 'Howto & Style',\n",
       " 27: 'Education',\n",
       " 28: 'Science & Technology',\n",
       " 29: 'Nonprofits & Activism',\n",
       " 30: 'Movies',\n",
       " 31: 'Anime/Animation',\n",
       " 32: 'Action/Adventure',\n",
       " 33: 'Classics',\n",
       " 34: 'Comedy',\n",
       " 35: 'Documentary',\n",
       " 36: 'Drama',\n",
       " 37: 'Family',\n",
       " 38: 'Foreign',\n",
       " 39: 'Horror',\n",
       " 40: 'Sci-Fi/Fantasy',\n",
       " 41: 'Thriller',\n",
       " 42: 'Shorts',\n",
       " 43: 'Shows',\n",
       " 44: 'Trailers'}"
      ]
     },
     "execution_count": 5,
     "metadata": {},
     "output_type": "execute_result"
    }
   ],
   "source": [
    "cat_dict"
   ]
  },
  {
   "cell_type": "code",
   "execution_count": null,
   "metadata": {},
   "outputs": [],
   "source": []
  },
  {
   "cell_type": "code",
   "execution_count": null,
   "metadata": {},
   "outputs": [],
   "source": []
  },
  {
   "cell_type": "code",
   "execution_count": null,
   "metadata": {},
   "outputs": [],
   "source": []
  },
  {
   "cell_type": "code",
   "execution_count": null,
   "metadata": {
    "collapsed": true
   },
   "outputs": [],
   "source": []
  }
 ],
 "metadata": {
  "kernelspec": {
   "display_name": "Python 3",
   "language": "python",
   "name": "python3"
  },
  "language_info": {
   "codemirror_mode": {
    "name": "ipython",
    "version": 3
   },
   "file_extension": ".py",
   "mimetype": "text/x-python",
   "name": "python",
   "nbconvert_exporter": "python",
   "pygments_lexer": "ipython3",
   "version": "3.6.3"
  }
 },
 "nbformat": 4,
 "nbformat_minor": 2
}
